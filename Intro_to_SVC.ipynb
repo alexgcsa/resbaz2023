{
 "cells": [
  {
   "cell_type": "markdown",
   "metadata": {
    "id": "YUDC5PS33ZDN"
   },
   "source": [
    "# Just data"
   ]
  },
  {
   "cell_type": "code",
   "execution_count": null,
   "metadata": {
    "colab": {
     "base_uri": "https://localhost:8080/",
     "height": 887
    },
    "id": "smVe7OvSGgrO",
    "outputId": "8f3bb765-9bb4-45bc-d5b3-1df2646e32a2"
   },
   "outputs": [],
   "source": [
    "import numpy as np\n",
    "import matplotlib.pyplot as plt\n",
    "from sklearn import svm\n",
    "\n",
    "# Generate linearly separable data\n",
    "#np.random.seed(0)\n",
    "X = np.concatenate((np.random.randn(20, 2) - [2, 2], np.random.randn(20, 2) + [2, 2]))\n",
    "y = np.concatenate((np.zeros(20), np.ones(20)))\n",
    "\n",
    "plt.scatter(X[:, 0], X[:, 1], c=y, cmap=plt.cm.Paired)\n",
    "ax = plt.gca()\n",
    "\n",
    "xlim = ax.get_xlim()\n",
    "ylim = ax.get_ylim()\n",
    "\n",
    "# Create a meshgrid to plot the decision boundary\n",
    "xx = np.linspace(xlim[0], xlim[1], 30)\n",
    "yy = np.linspace(ylim[0], ylim[1], 30)\n",
    "YY, XX = np.meshgrid(yy, xx)\n",
    "xy = np.vstack([XX.ravel(), YY.ravel()]).T\n",
    "plt.title('Easily separable data')\n",
    "plt.show()\n",
    "\n",
    "# Generate non-linearly separable data\n",
    "np.random.seed(0)\n",
    "X = np.random.randn(80, 2)\n",
    "y = np.logical_xor(X[:, 0] > 0, X[:, 1] > 0)\n",
    "\n",
    "# Plot the data points and the decision boundary\n",
    "plt.scatter(X[:, 0], X[:, 1], c=y, cmap=plt.cm.Paired)\n",
    "ax = plt.gca()\n",
    "xlim = ax.get_xlim()\n",
    "ylim = ax.get_ylim()\n",
    "\n",
    "# Create a meshgrid to plot the decision boundary\n",
    "xx = np.linspace(xlim[0], xlim[1], 30)\n",
    "yy = np.linspace(ylim[0], ylim[1], 30)\n",
    "YY, XX = np.meshgrid(yy, xx)\n",
    "xy = np.vstack([XX.ravel(), YY.ravel()]).T\n",
    "plt.title('not that easily separable data')\n",
    "\n",
    "plt.show()\n"
   ]
  },
  {
   "cell_type": "markdown",
   "metadata": {
    "id": "uSy8cD0yGa0w"
   },
   "source": [
    "# Linear data - Linear kernel"
   ]
  },
  {
   "cell_type": "code",
   "execution_count": null,
   "metadata": {
    "colab": {
     "base_uri": "https://localhost:8080/",
     "height": 430
    },
    "id": "WdECwAn63WCY",
    "outputId": "bd37a189-5306-4d2b-c50f-a680810334a9"
   },
   "outputs": [],
   "source": [
    "import numpy as np\n",
    "import matplotlib.pyplot as plt\n",
    "from sklearn import svm\n",
    "from sklearn.metrics import accuracy_score, precision_score, recall_score, f1_score\n",
    "\n",
    "# Generate linearly separable data\n",
    "#np.random.seed(0)\n",
    "X = np.concatenate((np.random.randn(20, 2) - [2, 2], np.random.randn(20, 2) + [2, 2]))\n",
    "y = np.concatenate((np.zeros(20), np.ones(20)))\n",
    "\n",
    "# Create and train the SVM classifier\n",
    "clf = svm.SVC(kernel='linear')\n",
    "clf.fit(X, y)\n",
    "# Predict labels for the data points\n",
    "y_pred = clf.predict(X)\n",
    "\n",
    "# Compute accuracy metrics\n",
    "accuracy = accuracy_score(y, y_pred)\n",
    "precision = precision_score(y, y_pred, average='weighted')\n",
    "recall = recall_score(y, y_pred), average='weighted')\n",
    "f1 = f1_score(y, y_pred, average='weighted')\n",
    "# Plot the data points and the decision boundary\n",
    "plt.scatter(X[:, 0], X[:, 1], c=y, cmap=plt.cm.Paired)\n",
    "ax = plt.gca()\n",
    "xlim = ax.get_xlim()\n",
    "ylim = ax.get_ylim()\n",
    "\n",
    "# Create a meshgrid to plot the decision boundary\n",
    "xx = np.linspace(xlim[0], xlim[1], 30)\n",
    "yy = np.linspace(ylim[0], ylim[1], 30)\n",
    "YY, XX = np.meshgrid(yy, xx)\n",
    "xy = np.vstack([XX.ravel(), YY.ravel()]).T\n",
    "Z = clf.decision_function(xy).reshape(XX.shape)\n",
    "\n",
    "# Plot the decision boundary and the margins\n",
    "ax.contour(XX, YY, Z, colors='k', levels=[-1, 0, 1], alpha=0.5, linestyles=['--', '-', '--'])\n",
    "ax.scatter(clf.support_vectors_[:, 0], clf.support_vectors_[:, 1], s=100, facecolors='none', edgecolors='k')\n",
    "# Print accuracy metrics\n",
    "plt.text(0.95, 0.05, f\"Accuracy: {accuracy:.2f}\\nPrecision: {precision:.2f}\\nRecall: {recall:.2f}\\nF1-score: {f1:.2f}\",\n",
    "         transform=plt.gca().transAxes, verticalalignment='bottom', horizontalalignment='right', bbox=dict(facecolor='white', alpha=0.8))\n",
    "\n",
    "plt.show()\n"
   ]
  },
  {
   "cell_type": "markdown",
   "metadata": {
    "id": "eFwz0G6x3isE"
   },
   "source": [
    "# Non-linear data - Linear kernel"
   ]
  },
  {
   "cell_type": "code",
   "execution_count": null,
   "metadata": {
    "colab": {
     "base_uri": "https://localhost:8080/",
     "height": 430
    },
    "id": "KkaYzBWj25G1",
    "outputId": "f7483ba4-4199-459b-d1f1-b8355e3ca07e"
   },
   "outputs": [],
   "source": [
    "import numpy as np\n",
    "import matplotlib.pyplot as plt\n",
    "from sklearn import svm\n",
    "from sklearn.metrics import accuracy_score, precision_score, recall_score, f1_score\n",
    "\n",
    "# Generate non-linearly separable data\n",
    "np.random.seed(0)\n",
    "X = np.random.randn(80, 2)\n",
    "y = np.logical_xor(X[:, 0] > 0, X[:, 1] > 0)\n",
    "\n",
    "# Create and train the SVM classifier with a linear kernel\n",
    "clf = svm.SVC(kernel='linear')\n",
    "clf.fit(X, y)\n",
    "\n",
    "# Predict labels for the data points\n",
    "y_pred = clf.predict(X)\n",
    "\n",
    "# Compute accuracy metrics\n",
    "accuracy = accuracy_score(y, y_pred)\n",
    "precision = precision_score(y, y_pred, average='weighted')\n",
    "recall = recall_score(y, y_pred, average='weighted')\n",
    "f1 = f1_score(y, y_pred, average='weighted')\n",
    "\n",
    "# Plot the data points and the decision boundary\n",
    "plt.scatter(X[:, 0], X[:, 1], c=y, cmap=plt.cm.Paired)\n",
    "ax = plt.gca()\n",
    "xlim = ax.get_xlim()\n",
    "ylim = ax.get_ylim()\n",
    "\n",
    "# Create a meshgrid to plot the decision boundary\n",
    "xx = np.linspace(xlim[0], xlim[1], 30)\n",
    "yy = np.linspace(ylim[0], ylim[1], 30)\n",
    "YY, XX = np.meshgrid(yy, xx)\n",
    "xy = np.vstack([XX.ravel(), YY.ravel()]).T\n",
    "Z = clf.decision_function(xy).reshape(XX.shape)\n",
    "\n",
    "# Plot the decision boundary and the margins\n",
    "ax.contour(XX, YY, Z, colors='k', levels=[-1, 0, 1], alpha=0.5, linestyles=['--', '-', '--'])\n",
    "ax.scatter(clf.support_vectors_[:, 0], clf.support_vectors_[:, 1], s=100, facecolors='none', edgecolors='k')\n",
    "\n",
    "# Print accuracy metrics\n",
    "plt.text(0.95, 0.05, f\"Accuracy: {accuracy:.2f}\\nPrecision: {precision:.2f}\\nRecall: {recall:.2f}\\nF1-score: {f1:.2f}\",\n",
    "         transform=plt.gca().transAxes, verticalalignment='bottom', horizontalalignment='right', bbox=dict(facecolor='white', alpha=0.8))\n",
    "\n",
    "plt.show()\n"
   ]
  },
  {
   "cell_type": "markdown",
   "metadata": {
    "id": "K4VCo86b44Pc"
   },
   "source": [
    "# Non-linear data - Non-linear kernel"
   ]
  },
  {
   "cell_type": "code",
   "execution_count": null,
   "metadata": {
    "colab": {
     "base_uri": "https://localhost:8080/",
     "height": 430
    },
    "id": "w8Wnkwbf494N",
    "outputId": "25ba77c4-45e7-40fe-f5b4-5ad9106ba162"
   },
   "outputs": [],
   "source": [
    "import numpy as np\n",
    "import matplotlib.pyplot as plt\n",
    "from sklearn import svm\n",
    "from sklearn.metrics import accuracy_score, precision_score, recall_score, f1_score\n",
    "\n",
    "# Generate non-linearly separable data\n",
    "np.random.seed(0)\n",
    "X = np.random.randn(80, 2)\n",
    "y = np.logical_xor(X[:, 0] > 0, X[:, 1] > 0)\n",
    "\n",
    "# Create and train the SVM classifier with a non-linear Gaussian (RBF) kernel\n",
    "clf = svm.SVC(kernel='rbf')\n",
    "clf.fit(X, y)\n",
    "\n",
    "# Predict labels for the data points\n",
    "y_pred = clf.predict(X)\n",
    "\n",
    "# Compute accuracy metrics\n",
    "accuracy = accuracy_score(y, y_pred)\n",
    "precision = precision_score(y, y_pred, average='weighted')\n",
    "recall = recall_score(y, y_pred, average='weighted')\n",
    "f1 = f1_score(y, y_pred, average='weighted')\n",
    "\n",
    "# Plot the data points and the decision boundary\n",
    "plt.scatter(X[:, 0], X[:, 1], c=y, cmap=plt.cm.Paired)\n",
    "ax = plt.gca()\n",
    "xlim = ax.get_xlim()\n",
    "ylim = ax.get_ylim()\n",
    "\n",
    "# Create a meshgrid to plot the decision boundary\n",
    "xx = np.linspace(xlim[0], xlim[1], 30)\n",
    "yy = np.linspace(ylim[0], ylim[1], 30)\n",
    "YY, XX = np.meshgrid(yy, xx)\n",
    "xy = np.vstack([XX.ravel(), YY.ravel()]).T\n",
    "Z = clf.decision_function(xy).reshape(XX.shape)\n",
    "\n",
    "# Plot the decision boundary and the margins\n",
    "ax.contour(XX, YY, Z, colors='k', levels=[-1, 0, 1], alpha=0.5, linestyles=['--', '-', '--'])\n",
    "ax.scatter(clf.support_vectors_[:, 0], clf.support_vectors_[:, 1], s=100, facecolors='none', edgecolors='k')\n",
    "\n",
    "# Print accuracy metrics\n",
    "plt.text(0.95, 0.05, f\"Accuracy: {accuracy:.2f}\\nPrecision: {precision:.2f}\\nRecall: {recall:.2f}\\nF1-score: {f1:.2f}\",\n",
    "         transform=plt.gca().transAxes, verticalalignment='bottom', horizontalalignment='right', bbox=dict(facecolor='white', alpha=0.8))\n",
    "\n",
    "plt.show()\n"
   ]
  }
 ],
 "metadata": {
  "colab": {
   "include_colab_link": true,
   "provenance": []
  },
  "kernelspec": {
   "display_name": "Python 3 (ipykernel)",
   "language": "python",
   "name": "python3"
  },
  "language_info": {
   "codemirror_mode": {
    "name": "ipython",
    "version": 3
   },
   "file_extension": ".py",
   "mimetype": "text/x-python",
   "name": "python",
   "nbconvert_exporter": "python",
   "pygments_lexer": "ipython3",
   "version": "3.10.13"
  }
 },
 "nbformat": 4,
 "nbformat_minor": 4
}
